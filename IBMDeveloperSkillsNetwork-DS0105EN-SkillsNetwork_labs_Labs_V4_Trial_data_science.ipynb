{
  "metadata": {
    "language_info": {
      "codemirror_mode": {
        "name": "python",
        "version": 3
      },
      "file_extension": ".py",
      "mimetype": "text/x-python",
      "name": "python",
      "nbconvert_exporter": "python",
      "pygments_lexer": "ipython3",
      "version": "3.8"
    },
    "kernelspec": {
      "name": "python",
      "display_name": "Pyolite",
      "language": "python"
    }
  },
  "nbformat_minor": 4,
  "nbformat": 4,
  "cells": [
    {
      "cell_type": "markdown",
      "source": "# Data_Sciecne_Workbook",
      "metadata": {}
    },
    {
      "cell_type": "markdown",
      "source": "## Notebook for data science languages",
      "metadata": {}
    },
    {
      "cell_type": "markdown",
      "source": "1. R\n2. Python\n3. SQL\n4. Scala\n5. TABLEU",
      "metadata": {}
    },
    {
      "cell_type": "markdown",
      "source": "### List for data science libraries ",
      "metadata": {}
    },
    {
      "cell_type": "markdown",
      "source": "1. scikit-learn\n2. TensorFlow\n3. PyTorch\n4. Theano\n5. panda\n6. Matplotlib\n7. Numpy",
      "metadata": {}
    },
    {
      "cell_type": "markdown",
      "source": "### Data science tools\n|Number |Tools               |\n|-------|--------------------|\n|1.     |SQL.                |\n|2.     |JUPYTER NOTEBOOK.   |\n|3.     |PANDAS.             |\n|4.     |DOCKER.             |\n\n",
      "metadata": {}
    },
    {
      "cell_type": "markdown",
      "source": "## Arethmatic Example\n\n### Addition Operation\n2+2\n\n### Substraction operation\n3-1\n",
      "metadata": {}
    },
    {
      "cell_type": "markdown",
      "source": "#### Arethmatic Operations",
      "metadata": {}
    },
    {
      "cell_type": "code",
      "source": "2+2  #Addition",
      "metadata": {
        "trusted": true
      },
      "execution_count": 3,
      "outputs": [
        {
          "execution_count": 3,
          "output_type": "execute_result",
          "data": {
            "text/plain": "4"
          },
          "metadata": {}
        }
      ]
    },
    {
      "cell_type": "code",
      "source": "3*2  #Multiplication",
      "metadata": {
        "trusted": true
      },
      "execution_count": 4,
      "outputs": [
        {
          "execution_count": 4,
          "output_type": "execute_result",
          "data": {
            "text/plain": "6"
          },
          "metadata": {}
        }
      ]
    },
    {
      "cell_type": "markdown",
      "source": "#### Conversion from Minutes to Hours",
      "metadata": {}
    },
    {
      "cell_type": "code",
      "source": "#print(\"Enter Minutes\")\na = int(input())\nprint(a)\n#print(\"Hours will be: \", a/60)",
      "metadata": {
        "trusted": true
      },
      "execution_count": 6,
      "outputs": [
        {
          "name": "stdout",
          "text": "Enter Minutes\n",
          "output_type": "stream"
        },
        {
          "ename": "<class 'TypeError'>",
          "evalue": "unsupported operand type(s) for /: 'Future' and 'int'",
          "traceback": [
            "\u001b[0;31m---------------------------------------------------------------------------\u001b[0m",
            "\u001b[0;31mTypeError\u001b[0m                                 Traceback (most recent call last)",
            "Cell \u001b[0;32mIn[6], line 3\u001b[0m\n\u001b[1;32m      1\u001b[0m \u001b[38;5;28mprint\u001b[39m(\u001b[38;5;124m\"\u001b[39m\u001b[38;5;124mEnter Minutes\u001b[39m\u001b[38;5;124m\"\u001b[39m)\n\u001b[1;32m      2\u001b[0m a \u001b[38;5;241m=\u001b[39m \u001b[38;5;28minput\u001b[39m()\n\u001b[0;32m----> 3\u001b[0m \u001b[38;5;28mprint\u001b[39m(\u001b[38;5;124m\"\u001b[39m\u001b[38;5;124mHours will be: \u001b[39m\u001b[38;5;124m\"\u001b[39m, \u001b[43ma\u001b[49m\u001b[38;5;241;43m/\u001b[39;49m\u001b[38;5;241;43m60\u001b[39;49m)\n",
            "\u001b[0;31mTypeError\u001b[0m: unsupported operand type(s) for /: 'Future' and 'int'"
          ],
          "output_type": "error"
        }
      ]
    },
    {
      "cell_type": "code",
      "source": "\nminutes = 20\nprint(\"Hours will be:\", minutes/60)",
      "metadata": {
        "trusted": true
      },
      "execution_count": 20,
      "outputs": [
        {
          "name": "stdout",
          "text": "Hours will be: 0.3333333333333333\n",
          "output_type": "stream"
        }
      ]
    },
    {
      "cell_type": "markdown",
      "source": "## Objectives \n1. Create new Code and Markdown cells within Jupyter Notebook.\n2. Run Code and Markdown cells within Jupyter Notebook to execute Python code and render Markdown text.\n3. List useful shortcuts for common tasks in Jupyter Notebook.",
      "metadata": {}
    },
    {
      "cell_type": "markdown",
      "source": "### Authors\n\n[Laxshmi Holla](https://www.linkedin.com/in/lakshmi-holla-b39062149/?utm_medium=Exinfluencer&utm_source=Exinfluencer&utm_content=000026UJ&utm_term=10006555&utm_id=NA-SkillsNetwork-Channel-SkillsNetworkCoursesIBMDeveloperSkillsNetworkDS0105ENSkillsNetwork984-2022-01-01)\n\n[Google](https://www.google.com/)",
      "metadata": {}
    },
    {
      "cell_type": "code",
      "source": "",
      "metadata": {},
      "execution_count": null,
      "outputs": []
    }
  ]
}